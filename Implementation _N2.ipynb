{
 "cells": [
  {
   "cell_type": "markdown",
   "metadata": {},
   "source": [
    "### Feature selection based on \"****information gain && Fast Correlation Based Filter (FCBF)****\" "
   ]
  },
  {
   "cell_type": "markdown",
   "metadata": {},
   "source": [
    "#### In this study, we extracted a subset comprising **20% of the CICIDS2017 database**. The objective was to assess the performance of the intrusion detection system in identifying and categorizing specific attack types. This study facilitated an evaluation of how various feature selection algorithms impact the accuracy and effectiveness of detecting each attack category."
   ]
  },
  {
   "cell_type": "markdown",
   "metadata": {},
   "source": [
    "## Import libraries"
   ]
  },
  {
   "cell_type": "code",
   "execution_count": 1,
   "metadata": {},
   "outputs": [],
   "source": [
    "import warnings\n",
    "warnings.filterwarnings(\"ignore\")"
   ]
  },
  {
   "cell_type": "code",
   "execution_count": 2,
   "metadata": {},
   "outputs": [],
   "source": [
    "import numpy as np\n",
    "import pandas as pd\n",
    "import seaborn as sns\n",
    "import matplotlib.pyplot as plt\n",
    "from sklearn.preprocessing import LabelEncoder\n",
    "from sklearn.model_selection import train_test_split\n",
    "from sklearn.metrics import classification_report,confusion_matrix,accuracy_score,precision_recall_fscore_support\n",
    "from sklearn.metrics import f1_score,roc_auc_score\n",
    "from sklearn.ensemble import RandomForestClassifier,ExtraTreesClassifier\n",
    "from sklearn.tree import DecisionTreeClassifier\n",
    "import xgboost as xgb\n",
    "from xgboost import plot_importance"
   ]
  },
  {
   "cell_type": "markdown",
   "metadata": {},
   "source": [
    "## Read the sampled CICIDS2017 dataset"
   ]
  },
  {
   "cell_type": "code",
   "execution_count": 3,
   "metadata": {},
   "outputs": [],
   "source": [
    "#Read dataset\n",
    "df = pd.read_csv('./data/CICIDS2017_20Percent.csv')\n",
    "# The results in this code is based on the original CICIDS2017 dataset."
   ]
  },
  {
   "cell_type": "code",
   "execution_count": 4,
   "metadata": {},
   "outputs": [
    {
     "data": {
      "text/html": [
       "<div>\n",
       "<style scoped>\n",
       "    .dataframe tbody tr th:only-of-type {\n",
       "        vertical-align: middle;\n",
       "    }\n",
       "\n",
       "    .dataframe tbody tr th {\n",
       "        vertical-align: top;\n",
       "    }\n",
       "\n",
       "    .dataframe thead th {\n",
       "        text-align: right;\n",
       "    }\n",
       "</style>\n",
       "<table border=\"1\" class=\"dataframe\">\n",
       "  <thead>\n",
       "    <tr style=\"text-align: right;\">\n",
       "      <th></th>\n",
       "      <th>DestinationPort</th>\n",
       "      <th>Flow_Duration</th>\n",
       "      <th>Total_Fwd_Packets</th>\n",
       "      <th>Total_Backward_Packets</th>\n",
       "      <th>Total_Length_of_Fwd_Packets</th>\n",
       "      <th>Total_Length_of_Bwd_Packets</th>\n",
       "      <th>Fwd_Packet_Length_Max</th>\n",
       "      <th>Fwd_Packet_Length_Min</th>\n",
       "      <th>Fwd_Packet_Length_Mean</th>\n",
       "      <th>Fwd_Packet_Length_Std</th>\n",
       "      <th>...</th>\n",
       "      <th>min_seg_size_forward</th>\n",
       "      <th>Active_Mean</th>\n",
       "      <th>Active_Std</th>\n",
       "      <th>Active_Max</th>\n",
       "      <th>Active_Min</th>\n",
       "      <th>Idle_Mean</th>\n",
       "      <th>Idle_Std</th>\n",
       "      <th>Idle_Max</th>\n",
       "      <th>Idle_Min</th>\n",
       "      <th>Label</th>\n",
       "    </tr>\n",
       "  </thead>\n",
       "  <tbody>\n",
       "    <tr>\n",
       "      <th>0</th>\n",
       "      <td>80</td>\n",
       "      <td>538750</td>\n",
       "      <td>3</td>\n",
       "      <td>6</td>\n",
       "      <td>26</td>\n",
       "      <td>11607</td>\n",
       "      <td>20</td>\n",
       "      <td>0</td>\n",
       "      <td>8.666667</td>\n",
       "      <td>10.263203</td>\n",
       "      <td>...</td>\n",
       "      <td>20</td>\n",
       "      <td>0.0</td>\n",
       "      <td>0.0</td>\n",
       "      <td>0</td>\n",
       "      <td>0</td>\n",
       "      <td>0.0</td>\n",
       "      <td>0.0</td>\n",
       "      <td>0</td>\n",
       "      <td>0</td>\n",
       "      <td>DoS</td>\n",
       "    </tr>\n",
       "    <tr>\n",
       "      <th>1</th>\n",
       "      <td>53580</td>\n",
       "      <td>74</td>\n",
       "      <td>1</td>\n",
       "      <td>1</td>\n",
       "      <td>6</td>\n",
       "      <td>6</td>\n",
       "      <td>6</td>\n",
       "      <td>6</td>\n",
       "      <td>6.000000</td>\n",
       "      <td>0.000000</td>\n",
       "      <td>...</td>\n",
       "      <td>20</td>\n",
       "      <td>0.0</td>\n",
       "      <td>0.0</td>\n",
       "      <td>0</td>\n",
       "      <td>0</td>\n",
       "      <td>0.0</td>\n",
       "      <td>0.0</td>\n",
       "      <td>0</td>\n",
       "      <td>0</td>\n",
       "      <td>Normaltraffic</td>\n",
       "    </tr>\n",
       "    <tr>\n",
       "      <th>2</th>\n",
       "      <td>53</td>\n",
       "      <td>33686</td>\n",
       "      <td>2</td>\n",
       "      <td>2</td>\n",
       "      <td>64</td>\n",
       "      <td>248</td>\n",
       "      <td>32</td>\n",
       "      <td>32</td>\n",
       "      <td>32.000000</td>\n",
       "      <td>0.000000</td>\n",
       "      <td>...</td>\n",
       "      <td>20</td>\n",
       "      <td>0.0</td>\n",
       "      <td>0.0</td>\n",
       "      <td>0</td>\n",
       "      <td>0</td>\n",
       "      <td>0.0</td>\n",
       "      <td>0.0</td>\n",
       "      <td>0</td>\n",
       "      <td>0</td>\n",
       "      <td>Normaltraffic</td>\n",
       "    </tr>\n",
       "    <tr>\n",
       "      <th>3</th>\n",
       "      <td>80</td>\n",
       "      <td>5313019</td>\n",
       "      <td>3</td>\n",
       "      <td>1</td>\n",
       "      <td>12</td>\n",
       "      <td>0</td>\n",
       "      <td>6</td>\n",
       "      <td>0</td>\n",
       "      <td>4.000000</td>\n",
       "      <td>3.464102</td>\n",
       "      <td>...</td>\n",
       "      <td>20</td>\n",
       "      <td>0.0</td>\n",
       "      <td>0.0</td>\n",
       "      <td>0</td>\n",
       "      <td>0</td>\n",
       "      <td>0.0</td>\n",
       "      <td>0.0</td>\n",
       "      <td>0</td>\n",
       "      <td>0</td>\n",
       "      <td>Normaltraffic</td>\n",
       "    </tr>\n",
       "    <tr>\n",
       "      <th>4</th>\n",
       "      <td>53</td>\n",
       "      <td>23299</td>\n",
       "      <td>1</td>\n",
       "      <td>1</td>\n",
       "      <td>49</td>\n",
       "      <td>114</td>\n",
       "      <td>49</td>\n",
       "      <td>49</td>\n",
       "      <td>49.000000</td>\n",
       "      <td>0.000000</td>\n",
       "      <td>...</td>\n",
       "      <td>32</td>\n",
       "      <td>0.0</td>\n",
       "      <td>0.0</td>\n",
       "      <td>0</td>\n",
       "      <td>0</td>\n",
       "      <td>0.0</td>\n",
       "      <td>0.0</td>\n",
       "      <td>0</td>\n",
       "      <td>0</td>\n",
       "      <td>Normaltraffic</td>\n",
       "    </tr>\n",
       "    <tr>\n",
       "      <th>...</th>\n",
       "      <td>...</td>\n",
       "      <td>...</td>\n",
       "      <td>...</td>\n",
       "      <td>...</td>\n",
       "      <td>...</td>\n",
       "      <td>...</td>\n",
       "      <td>...</td>\n",
       "      <td>...</td>\n",
       "      <td>...</td>\n",
       "      <td>...</td>\n",
       "      <td>...</td>\n",
       "      <td>...</td>\n",
       "      <td>...</td>\n",
       "      <td>...</td>\n",
       "      <td>...</td>\n",
       "      <td>...</td>\n",
       "      <td>...</td>\n",
       "      <td>...</td>\n",
       "      <td>...</td>\n",
       "      <td>...</td>\n",
       "      <td>...</td>\n",
       "    </tr>\n",
       "    <tr>\n",
       "      <th>566140</th>\n",
       "      <td>53</td>\n",
       "      <td>70529545</td>\n",
       "      <td>2</td>\n",
       "      <td>2</td>\n",
       "      <td>90</td>\n",
       "      <td>106</td>\n",
       "      <td>52</td>\n",
       "      <td>38</td>\n",
       "      <td>45.000000</td>\n",
       "      <td>9.899495</td>\n",
       "      <td>...</td>\n",
       "      <td>20</td>\n",
       "      <td>30619.0</td>\n",
       "      <td>0.0</td>\n",
       "      <td>30619</td>\n",
       "      <td>30619</td>\n",
       "      <td>70097803.0</td>\n",
       "      <td>0.0</td>\n",
       "      <td>70097803</td>\n",
       "      <td>70097803</td>\n",
       "      <td>Normaltraffic</td>\n",
       "    </tr>\n",
       "    <tr>\n",
       "      <th>566141</th>\n",
       "      <td>53</td>\n",
       "      <td>500572</td>\n",
       "      <td>2</td>\n",
       "      <td>2</td>\n",
       "      <td>95</td>\n",
       "      <td>180</td>\n",
       "      <td>48</td>\n",
       "      <td>47</td>\n",
       "      <td>47.500000</td>\n",
       "      <td>0.707107</td>\n",
       "      <td>...</td>\n",
       "      <td>20</td>\n",
       "      <td>0.0</td>\n",
       "      <td>0.0</td>\n",
       "      <td>0</td>\n",
       "      <td>0</td>\n",
       "      <td>0.0</td>\n",
       "      <td>0.0</td>\n",
       "      <td>0</td>\n",
       "      <td>0</td>\n",
       "      <td>Normaltraffic</td>\n",
       "    </tr>\n",
       "    <tr>\n",
       "      <th>566142</th>\n",
       "      <td>80</td>\n",
       "      <td>85190068</td>\n",
       "      <td>6</td>\n",
       "      <td>7</td>\n",
       "      <td>722</td>\n",
       "      <td>11595</td>\n",
       "      <td>355</td>\n",
       "      <td>0</td>\n",
       "      <td>120.333333</td>\n",
       "      <td>181.791822</td>\n",
       "      <td>...</td>\n",
       "      <td>20</td>\n",
       "      <td>3998.0</td>\n",
       "      <td>0.0</td>\n",
       "      <td>3998</td>\n",
       "      <td>3998</td>\n",
       "      <td>84800000.0</td>\n",
       "      <td>0.0</td>\n",
       "      <td>84800000</td>\n",
       "      <td>84800000</td>\n",
       "      <td>DoS</td>\n",
       "    </tr>\n",
       "    <tr>\n",
       "      <th>566143</th>\n",
       "      <td>53</td>\n",
       "      <td>40708</td>\n",
       "      <td>1</td>\n",
       "      <td>1</td>\n",
       "      <td>43</td>\n",
       "      <td>59</td>\n",
       "      <td>43</td>\n",
       "      <td>43</td>\n",
       "      <td>43.000000</td>\n",
       "      <td>0.000000</td>\n",
       "      <td>...</td>\n",
       "      <td>32</td>\n",
       "      <td>0.0</td>\n",
       "      <td>0.0</td>\n",
       "      <td>0</td>\n",
       "      <td>0</td>\n",
       "      <td>0.0</td>\n",
       "      <td>0.0</td>\n",
       "      <td>0</td>\n",
       "      <td>0</td>\n",
       "      <td>Normaltraffic</td>\n",
       "    </tr>\n",
       "    <tr>\n",
       "      <th>566144</th>\n",
       "      <td>80</td>\n",
       "      <td>15074636</td>\n",
       "      <td>5</td>\n",
       "      <td>5</td>\n",
       "      <td>362</td>\n",
       "      <td>190</td>\n",
       "      <td>362</td>\n",
       "      <td>0</td>\n",
       "      <td>72.400000</td>\n",
       "      <td>161.891322</td>\n",
       "      <td>...</td>\n",
       "      <td>32</td>\n",
       "      <td>71226.0</td>\n",
       "      <td>0.0</td>\n",
       "      <td>71226</td>\n",
       "      <td>71226</td>\n",
       "      <td>10200000.0</td>\n",
       "      <td>0.0</td>\n",
       "      <td>10200000</td>\n",
       "      <td>10200000</td>\n",
       "      <td>Normaltraffic</td>\n",
       "    </tr>\n",
       "  </tbody>\n",
       "</table>\n",
       "<p>566145 rows × 78 columns</p>\n",
       "</div>"
      ],
      "text/plain": [
       "        DestinationPort  Flow_Duration  Total_Fwd_Packets  \\\n",
       "0                    80         538750                  3   \n",
       "1                 53580             74                  1   \n",
       "2                    53          33686                  2   \n",
       "3                    80        5313019                  3   \n",
       "4                    53          23299                  1   \n",
       "...                 ...            ...                ...   \n",
       "566140               53       70529545                  2   \n",
       "566141               53         500572                  2   \n",
       "566142               80       85190068                  6   \n",
       "566143               53          40708                  1   \n",
       "566144               80       15074636                  5   \n",
       "\n",
       "        Total_Backward_Packets  Total_Length_of_Fwd_Packets  \\\n",
       "0                            6                           26   \n",
       "1                            1                            6   \n",
       "2                            2                           64   \n",
       "3                            1                           12   \n",
       "4                            1                           49   \n",
       "...                        ...                          ...   \n",
       "566140                       2                           90   \n",
       "566141                       2                           95   \n",
       "566142                       7                          722   \n",
       "566143                       1                           43   \n",
       "566144                       5                          362   \n",
       "\n",
       "        Total_Length_of_Bwd_Packets  Fwd_Packet_Length_Max  \\\n",
       "0                             11607                     20   \n",
       "1                                 6                      6   \n",
       "2                               248                     32   \n",
       "3                                 0                      6   \n",
       "4                               114                     49   \n",
       "...                             ...                    ...   \n",
       "566140                          106                     52   \n",
       "566141                          180                     48   \n",
       "566142                        11595                    355   \n",
       "566143                           59                     43   \n",
       "566144                          190                    362   \n",
       "\n",
       "        Fwd_Packet_Length_Min  Fwd_Packet_Length_Mean  Fwd_Packet_Length_Std  \\\n",
       "0                           0                8.666667              10.263203   \n",
       "1                           6                6.000000               0.000000   \n",
       "2                          32               32.000000               0.000000   \n",
       "3                           0                4.000000               3.464102   \n",
       "4                          49               49.000000               0.000000   \n",
       "...                       ...                     ...                    ...   \n",
       "566140                     38               45.000000               9.899495   \n",
       "566141                     47               47.500000               0.707107   \n",
       "566142                      0              120.333333             181.791822   \n",
       "566143                     43               43.000000               0.000000   \n",
       "566144                      0               72.400000             161.891322   \n",
       "\n",
       "        ...  min_seg_size_forward  Active_Mean  Active_Std  Active_Max  \\\n",
       "0       ...                    20          0.0         0.0           0   \n",
       "1       ...                    20          0.0         0.0           0   \n",
       "2       ...                    20          0.0         0.0           0   \n",
       "3       ...                    20          0.0         0.0           0   \n",
       "4       ...                    32          0.0         0.0           0   \n",
       "...     ...                   ...          ...         ...         ...   \n",
       "566140  ...                    20      30619.0         0.0       30619   \n",
       "566141  ...                    20          0.0         0.0           0   \n",
       "566142  ...                    20       3998.0         0.0        3998   \n",
       "566143  ...                    32          0.0         0.0           0   \n",
       "566144  ...                    32      71226.0         0.0       71226   \n",
       "\n",
       "        Active_Min   Idle_Mean  Idle_Std  Idle_Max  Idle_Min          Label  \n",
       "0                0         0.0       0.0         0         0            DoS  \n",
       "1                0         0.0       0.0         0         0  Normaltraffic  \n",
       "2                0         0.0       0.0         0         0  Normaltraffic  \n",
       "3                0         0.0       0.0         0         0  Normaltraffic  \n",
       "4                0         0.0       0.0         0         0  Normaltraffic  \n",
       "...            ...         ...       ...       ...       ...            ...  \n",
       "566140       30619  70097803.0       0.0  70097803  70097803  Normaltraffic  \n",
       "566141           0         0.0       0.0         0         0  Normaltraffic  \n",
       "566142        3998  84800000.0       0.0  84800000  84800000            DoS  \n",
       "566143           0         0.0       0.0         0         0  Normaltraffic  \n",
       "566144       71226  10200000.0       0.0  10200000  10200000  Normaltraffic  \n",
       "\n",
       "[566145 rows x 78 columns]"
      ]
     },
     "execution_count": 4,
     "metadata": {},
     "output_type": "execute_result"
    }
   ],
   "source": [
    "df"
   ]
  },
  {
   "cell_type": "code",
   "execution_count": 5,
   "metadata": {},
   "outputs": [
    {
     "data": {
      "text/plain": [
       "Normaltraffic    454619\n",
       "DoS               76136\n",
       "PortScan          31786\n",
       "BruteForce         2767\n",
       "WebAttack           437\n",
       "Bot                 393\n",
       "Infiltration          7\n",
       "Name: Label, dtype: int64"
      ]
     },
     "execution_count": 5,
     "metadata": {},
     "output_type": "execute_result"
    }
   ],
   "source": [
    "df.Label.value_counts()"
   ]
  },
  {
   "cell_type": "markdown",
   "metadata": {},
   "source": [
    "### Preprocessing (normalization and padding values)"
   ]
  },
  {
   "cell_type": "code",
   "execution_count": 6,
   "metadata": {},
   "outputs": [],
   "source": [
    "# Z-score normalization\n",
    "features = df.dtypes[df.dtypes != 'object'].index\n",
    "df[features] = df[features].apply(\n",
    "    lambda x: (x - x.mean()) / (x.std()))\n",
    "# Fill empty values by 0\n",
    "df = df.fillna(0)"
   ]
  },
  {
   "cell_type": "markdown",
   "metadata": {},
   "source": [
    "### split train set and test set"
   ]
  },
  {
   "cell_type": "code",
   "execution_count": 10,
   "metadata": {},
   "outputs": [
    {
     "data": {
      "text/plain": [
       "Normaltraffic    454619\n",
       "DoS               76136\n",
       "PortScan          31786\n",
       "BruteForce         2767\n",
       "WebAttack           437\n",
       "Bot                 393\n",
       "Infiltration          7\n",
       "Name: Label, dtype: int64"
      ]
     },
     "execution_count": 10,
     "metadata": {},
     "output_type": "execute_result"
    }
   ],
   "source": [
    "df.Label.value_counts()"
   ]
  },
  {
   "cell_type": "code",
   "execution_count": 11,
   "metadata": {},
   "outputs": [],
   "source": [
    "# Min-max normalization\n",
    "numeric_features = df.dtypes[df.dtypes != 'object'].index\n",
    "df[numeric_features] = df[numeric_features].apply(\n",
    "    lambda x: (x - x.min()) / (x.max()-x.min()))\n",
    "# Fill empty values by 0\n",
    "df = df.fillna(0)"
   ]
  },
  {
   "cell_type": "code",
   "execution_count": 9,
   "metadata": {
    "collapsed": true
   },
   "outputs": [],
   "source": [
    "labelencoder = LabelEncoder()\n",
    "df.iloc[:, -1] = labelencoder.fit_transform(df.iloc[:, -1])\n",
    "X = df.drop(['Label'],axis=1).values \n",
    "y = df.iloc[:, -1].values.reshape(-1,1)\n",
    "y=np.ravel(y)\n",
    "X_train, X_test, y_train, y_test = train_test_split(X,y, train_size = 0.8, test_size = 0.2, random_state = 0,stratify = y)"
   ]
  },
  {
   "cell_type": "markdown",
   "metadata": {},
   "source": [
    "## Feature engineering"
   ]
  },
  {
   "cell_type": "markdown",
   "metadata": {},
   "source": [
    "### Feature selection by information gain"
   ]
  },
  {
   "cell_type": "code",
   "execution_count": 10,
   "metadata": {
    "collapsed": true
   },
   "outputs": [],
   "source": [
    "from sklearn.feature_selection import mutual_info_classif\n",
    "importances = mutual_info_classif(X_train, y_train)"
   ]
  },
  {
   "cell_type": "code",
   "execution_count": 11,
   "metadata": {},
   "outputs": [
    {
     "data": {
      "text/plain": [
       "Index(['DestinationPort', 'Flow_Duration', 'Total_Fwd_Packets',\n",
       "       'Total_Backward_Packets', 'Total_Length_of_Fwd_Packets',\n",
       "       'Total_Length_of_Bwd_Packets', 'Fwd_Packet_Length_Max',\n",
       "       'Fwd_Packet_Length_Min', 'Fwd_Packet_Length_Mean',\n",
       "       'Fwd_Packet_Length_Std', 'Bwd_Packet_Length_Max',\n",
       "       'Bwd_Packet_Length_Min', 'Bwd_Packet_Length_Mean',\n",
       "       'Bwd_Packet_Length_Std', 'Flow_Bytes_s', 'Flow_Packets_s',\n",
       "       'Flow_IAT_Mean', 'Flow_IAT_Std', 'Flow_IAT_Max', 'Flow_IAT_Min',\n",
       "       'Fwd_IAT_Total', 'Fwd_IAT_Mean', 'Fwd_IAT_Std', 'Fwd_IAT_Max',\n",
       "       'Fwd_IAT_Min', 'Bwd_IAT_Total', 'Bwd_IAT_Mean', 'Bwd_IAT_Std',\n",
       "       'Bwd_IAT_Max', 'Bwd_IAT_Min', 'Fwd_PSH_Flags', 'Bwd_PSH_Flags',\n",
       "       'Fwd_URG_Flags', 'Bwd_URG_Flags', 'Fwd_Header_Length1',\n",
       "       'Bwd_Header_Length', 'Fwd_Packets_s', 'Bwd_Packets_s',\n",
       "       'Min_Packet_Length', 'Max_Packet_Length', 'Packet_Length_Mean',\n",
       "       'Packet_Length_Std', 'Packet_Length_Variance', 'FIN_Flag_Count',\n",
       "       'SYN_Flag_Count', 'RST_Flag_Count', 'PSH_Flag_Count', 'ACK_Flag_Count',\n",
       "       'URG_Flag_Count', 'CWE_Flag_Count', 'ECE_Flag_Count', 'Down_Up_Ratio',\n",
       "       'Average_Packet_Size', 'Avg_Fwd_Segment_Size', 'Avg_Bwd_Segment_Size',\n",
       "       'Fwd_Avg_Bytes_Bulk', 'Fwd_Avg_Packets_Bulk', 'Fwd_Avg_Bulk_Rate',\n",
       "       'Bwd_Avg_Bytes_Bulk', 'Bwd_Avg_Packets_Bulk', 'Bwd_Avg_Bulk_Rate',\n",
       "       'Subflow_Fwd_Packets', 'Subflow_Fwd_Bytes', 'Subflow_Bwd_Packets',\n",
       "       'Subflow_Bwd_Bytes', 'Init_Win_bytes_forward',\n",
       "       'Init_Win_bytes_backward', 'act_data_pkt_fwd', 'min_seg_size_forward',\n",
       "       'Active_Mean', 'Active_Std', 'Active_Max', 'Active_Min', 'Idle_Mean',\n",
       "       'Idle_Std', 'Idle_Max', 'Idle_Min', 'Label'],\n",
       "      dtype='object')"
      ]
     },
     "execution_count": 11,
     "metadata": {},
     "output_type": "execute_result"
    }
   ],
   "source": [
    "\n",
    "features = df.dtypes[df.dtypes != 'object'].index\n",
    "features"
   ]
  },
  {
   "cell_type": "code",
   "execution_count": 12,
   "metadata": {},
   "outputs": [],
   "source": [
    "# calculate the sum of importance scores\n",
    "f_list = sorted(zip(map(lambda x: round(x, 4), importances), features), reverse=True)\n",
    "Sum = 0\n",
    "fs = []\n",
    "for i in range(0, len(f_list)):\n",
    "    Sum = Sum + f_list[i][0]\n",
    "    fs.append(f_list[i][1])"
   ]
  },
  {
   "cell_type": "code",
   "execution_count": 13,
   "metadata": {},
   "outputs": [],
   "source": [
    "# select the important features from top to bottom until the accumulated importance reaches 90%\n",
    "f_list2 = sorted(zip(map(lambda x: round(x, 4), importances/Sum), features), reverse=True)\n",
    "Sum2 = 0\n",
    "fs = []\n",
    "for i in range(0, len(f_list2)):\n",
    "    Sum2 = Sum2 + f_list2[i][0]\n",
    "    fs.append(f_list2[i][1])\n",
    "    if Sum2>=0.9:\n",
    "        break        "
   ]
  },
  {
   "cell_type": "code",
   "execution_count": 14,
   "metadata": {
    "collapsed": true
   },
   "outputs": [],
   "source": [
    "X_fs = df[fs].values"
   ]
  },
  {
   "cell_type": "code",
   "execution_count": 15,
   "metadata": {},
   "outputs": [
    {
     "data": {
      "text/plain": [
       "(566145, 48)"
      ]
     },
     "execution_count": 15,
     "metadata": {},
     "output_type": "execute_result"
    }
   ],
   "source": [
    "X_fs.shape"
   ]
  },
  {
   "cell_type": "markdown",
   "metadata": {},
   "source": [
    "### Feature selection by Fast Correlation Based Filter (FCBF)\n",
    "\n",
    "The module is imported from the GitHub repo: https://github.com/SantiagoEG/FCBF_module"
   ]
  },
  {
   "cell_type": "code",
   "execution_count": 19,
   "metadata": {
    "collapsed": true
   },
   "outputs": [],
   "source": [
    "from FCBF_module import FCBF, FCBFK, FCBFiP, get_i\n",
    "fcbf = FCBFK(k = 20)\n",
    "#fcbf.fit(X_fs, y)"
   ]
  },
  {
   "cell_type": "code",
   "execution_count": 20,
   "metadata": {},
   "outputs": [],
   "source": [
    "X_fss = fcbf.fit_transform(X_fs,y)"
   ]
  },
  {
   "cell_type": "code",
   "execution_count": 21,
   "metadata": {},
   "outputs": [
    {
     "data": {
      "text/plain": [
       "(566145, 20)"
      ]
     },
     "execution_count": 21,
     "metadata": {},
     "output_type": "execute_result"
    }
   ],
   "source": [
    "X_fss.shape"
   ]
  },
  {
   "cell_type": "markdown",
   "metadata": {},
   "source": [
    "### Re-split train & test sets after feature selection"
   ]
  },
  {
   "cell_type": "code",
   "execution_count": 22,
   "metadata": {
    "collapsed": true
   },
   "outputs": [],
   "source": [
    "X_train, X_test, y_train, y_test = train_test_split(X_fss,y, train_size = 0.8, test_size = 0.2, random_state = 0,stratify = y)"
   ]
  },
  {
   "cell_type": "code",
   "execution_count": 23,
   "metadata": {},
   "outputs": [
    {
     "data": {
      "text/plain": [
       "(452916, 20)"
      ]
     },
     "execution_count": 23,
     "metadata": {},
     "output_type": "execute_result"
    }
   ],
   "source": [
    "X_train.shape"
   ]
  },
  {
   "cell_type": "code",
   "execution_count": 24,
   "metadata": {},
   "outputs": [
    {
     "data": {
      "text/plain": [
       "4    363695\n",
       "2     60909\n",
       "5     25429\n",
       "1      2213\n",
       "6       350\n",
       "0       314\n",
       "3         6\n",
       "dtype: int64"
      ]
     },
     "execution_count": 24,
     "metadata": {},
     "output_type": "execute_result"
    }
   ],
   "source": [
    "pd.Series(y_train).value_counts()"
   ]
  },
  {
   "cell_type": "markdown",
   "metadata": {},
   "source": [
    "**Corresponding Attack Types:**  \n",
    "0 Bot   \n",
    "3 Infiltration          \n",
    "6 WebAttack    \n",
    "1 BruteForce                 \n",
    "5 PortScan        \n",
    "2 DoS      \n",
    "4 Normaltraffic  "
   ]
  },
  {
   "cell_type": "markdown",
   "metadata": {},
   "source": [
    "## Machine learning model training"
   ]
  },
  {
   "cell_type": "markdown",
   "metadata": {},
   "source": [
    "### Training four base learners: decision tree, random forest, extra trees, XGBoost"
   ]
  },
  {
   "cell_type": "markdown",
   "metadata": {},
   "source": [
    "#### Apply XGBoost"
   ]
  },
  {
   "cell_type": "code",
   "execution_count": 40,
   "metadata": {},
   "outputs": [
    {
     "name": "stdout",
     "output_type": "stream",
     "text": [
      "Accuracy of XGBoost: 0.9846947336813008\n",
      "Precision of XGBoost: 0.9857057013828424\n",
      "Recall of XGBoost: 0.9846947336813008\n",
      "F1-score of XGBoost: 0.9845338130088039\n",
      "              precision    recall  f1-score   support\n",
      "\n",
      "         Bot       1.00      0.71      0.83        79\n",
      "  BruteForce       1.00      1.00      1.00       554\n",
      "         DoS       0.92      1.00      0.96     15227\n",
      "Infiltration       0.00      0.00      0.00         1\n",
      "    Ntraffic       1.00      0.98      0.99     90924\n",
      "    PortScan       0.97      1.00      0.98      6357\n",
      "   WebAttack       1.00      0.02      0.04        87\n",
      "\n",
      "    accuracy                           0.98    113229\n",
      "   macro avg       0.84      0.67      0.69    113229\n",
      "weighted avg       0.99      0.98      0.98    113229\n",
      "\n"
     ]
    },
    {
     "data": {
      "image/png": "[encoded data removed]",
      "text/plain": [
       "<Figure size 360x360 with 2 Axes>"
      ]
     },
     "metadata": {
      "needs_background": "light"
     },
     "output_type": "display_data"
    }
   ],
   "source": [
    "import xgboost as xgb\n",
    "from sklearn.metrics import confusion_matrix, precision_recall_fscore_support, classification_report\n",
    "import matplotlib.pyplot as plt\n",
    "import seaborn as sns\n",
    "\n",
    "# Assuming you have already defined X_train, y_train, X_test, and y_test\n",
    "\n",
    "# Fit the XGBoost classifier\n",
    "xg = xgb.XGBClassifier(n_estimators=10)\n",
    "xg.fit(X_train, y_train)\n",
    "\n",
    "# Evaluate the model\n",
    "xg_score = xg.score(X_test, y_test)\n",
    "y_predict = xg.predict(X_test)\n",
    "y_true = y_test\n",
    "print('Accuracy of XGBoost: ' + str(xg_score))\n",
    "\n",
    "# Calculate precision, recall, and F1-score\n",
    "precision, recall, fscore, none = precision_recall_fscore_support(y_true, y_predict, average='weighted')\n",
    "print('Precision of XGBoost: ' + str(precision))\n",
    "print('Recall of XGBoost: ' + str(recall))\n",
    "print('F1-score of XGBoost: ' + str(fscore))\n",
    "\n",
    "# Print the classification report\n",
    "target_names = ['Bot', 'BruteForce', 'DoS', 'Infiltration', 'Ntraffic', 'PortScan', 'WebAttack']\n",
    "print(classification_report(y_true, y_predict, target_names=target_names))\n",
    "\n",
    "# Create the confusion matrix and plot it as a heatmap\n",
    "cm = confusion_matrix(y_true, y_predict)\n",
    "\n",
    "# Rename the class labels in the confusion matrix\n",
    "cm_renamed = cm.copy()\n",
    "for i in range(len(target_names)):\n",
    "    for j in range(len(target_names)):\n",
    "        cm_renamed[i][j] = cm[target_names.index(target_names[i])][target_names.index(target_names[j])]\n",
    "\n",
    "f, ax = plt.subplots(figsize=(5, 5))\n",
    "sns.heatmap(cm_renamed, annot=True, fmt=\".0f\", ax=ax, xticklabels=target_names, yticklabels=target_names, cmap='Blues')\n",
    "plt.xlabel(\"Predicted Label\")\n",
    "plt.ylabel(\"True Label\")\n",
    "plt.show()\n"
   ]
  },
  {
   "cell_type": "code",
   "execution_count": 26,
   "metadata": {},
   "outputs": [],
   "source": [
    "xg_train=xg.predict(X_train)\n",
    "xg_test=xg.predict(X_test)"
   ]
  },
  {
   "cell_type": "markdown",
   "metadata": {},
   "source": [
    "#### Apply RF"
   ]
  },
  {
   "cell_type": "code",
   "execution_count": 42,
   "metadata": {},
   "outputs": [
    {
     "name": "stdout",
     "output_type": "stream",
     "text": [
      "Accuracy of RF: 0.985728037870157\n",
      "Precision of RF: 0.986363627034215\n",
      "Recall of RF: 0.985728037870157\n",
      "F1-score of RF: 0.9855938096767785\n",
      "              precision    recall  f1-score   support\n",
      "\n",
      "         Bot       0.96      0.96      0.96        79\n",
      "  BruteForce       1.00      1.00      1.00       554\n",
      "         DoS       0.93      0.99      0.96     15227\n",
      "Infiltration       0.00      0.00      0.00         1\n",
      "    Ntraffic       1.00      0.98      0.99     90924\n",
      "    PortScan       0.97      1.00      0.98      6357\n",
      "   WebAttack       0.88      0.08      0.15        87\n",
      "\n",
      "    accuracy                           0.99    113229\n",
      "   macro avg       0.82      0.72      0.72    113229\n",
      "weighted avg       0.99      0.99      0.99    113229\n",
      "\n"
     ]
    },
    {
     "data": {
      "image/png": "[encoded data removed]",
      "text/plain": [
       "<Figure size 360x360 with 2 Axes>"
      ]
     },
     "metadata": {
      "needs_background": "light"
     },
     "output_type": "display_data"
    }
   ],
   "source": [
    "from sklearn.ensemble import RandomForestClassifier\n",
    "from sklearn.metrics import confusion_matrix, precision_recall_fscore_support, classification_report\n",
    "import matplotlib.pyplot as plt\n",
    "import seaborn as sns\n",
    "\n",
    "# Assuming you have already defined X_train, y_train, X_test, and y_test\n",
    "\n",
    "# Fit the RandomForestClassifier\n",
    "rf = RandomForestClassifier(random_state=0)\n",
    "rf.fit(X_train, y_train)\n",
    "\n",
    "# Evaluate the model\n",
    "rf_score = rf.score(X_test, y_test)\n",
    "y_predict = rf.predict(X_test)\n",
    "y_true = y_test\n",
    "print('Accuracy of RF: ' + str(rf_score))\n",
    "\n",
    "# Calculate precision, recall, and F1-score\n",
    "precision, recall, fscore, none = precision_recall_fscore_support(y_true, y_predict, average='weighted')\n",
    "print('Precision of RF: ' + str(precision))\n",
    "print('Recall of RF: ' + str(recall))\n",
    "print('F1-score of RF: ' + str(fscore))\n",
    "\n",
    "# Print the classification report with renamed class labels\n",
    "target_names = ['Bot', 'BruteForce', 'DoS', 'Infiltration', 'Ntraffic', 'PortScan', 'WebAttack']\n",
    "print(classification_report(y_true, y_predict, target_names=target_names))\n",
    "\n",
    "# Create the confusion matrix and plot it as a heatmap with renamed class labels\n",
    "cm = confusion_matrix(y_true, y_predict)\n",
    "\n",
    "# Create a new figure and axes for the heatmap\n",
    "f, ax = plt.subplots(figsize=(5, 5))\n",
    "\n",
    "# Plot the heatmap with annotated values and the desired class labels\n",
    "sns.heatmap(cm, annot=True, fmt=\".0f\", ax=ax, xticklabels=target_names, yticklabels=target_names, cmap='Blues')\n",
    "\n",
    "# Set axis labels\n",
    "plt.xlabel(\"Predicted Label\")\n",
    "plt.ylabel(\"True Label\")\n",
    "\n",
    "# Show the plot\n",
    "plt.show()\n"
   ]
  },
  {
   "cell_type": "code",
   "execution_count": 28,
   "metadata": {
    "collapsed": true
   },
   "outputs": [],
   "source": [
    "rf_train=rf.predict(X_train)\n",
    "rf_test=rf.predict(X_test)"
   ]
  },
  {
   "cell_type": "markdown",
   "metadata": {},
   "source": [
    "#### Apply DT"
   ]
  },
  {
   "cell_type": "code",
   "execution_count": 43,
   "metadata": {},
   "outputs": [
    {
     "name": "stdout",
     "output_type": "stream",
     "text": [
      "Accuracy of DT: 0.9857015428909555\n",
      "Precision of DT: 0.9862330840411577\n",
      "Recall of DT: 0.9857015428909555\n",
      "F1-score of DT: 0.9855981835309963\n",
      "              precision    recall  f1-score   support\n",
      "\n",
      "         Bot       0.94      0.97      0.96        79\n",
      "  BruteForce       1.00      1.00      1.00       554\n",
      "         DoS       0.93      0.99      0.96     15227\n",
      "Infiltration       0.00      0.00      0.00         1\n",
      "    Ntraffic       1.00      0.98      0.99     90924\n",
      "    PortScan       0.97      1.00      0.98      6357\n",
      "   WebAttack       0.69      0.10      0.18        87\n",
      "\n",
      "    accuracy                           0.99    113229\n",
      "   macro avg       0.79      0.72      0.72    113229\n",
      "weighted avg       0.99      0.99      0.99    113229\n",
      "\n"
     ]
    },
    {
     "data": {
      "image/png": "[encoded data removed]",
      "text/plain": [
       "<Figure size 360x360 with 2 Axes>"
      ]
     },
     "metadata": {
      "needs_background": "light"
     },
     "output_type": "display_data"
    }
   ],
   "source": [
    "from sklearn.tree import DecisionTreeClassifier\n",
    "from sklearn.metrics import confusion_matrix, precision_recall_fscore_support, classification_report\n",
    "import matplotlib.pyplot as plt\n",
    "import seaborn as sns\n",
    "\n",
    "# Assuming you have already defined X_train, y_train, X_test, and y_test\n",
    "\n",
    "# Fit the DecisionTreeClassifier\n",
    "dt = DecisionTreeClassifier(random_state=0)\n",
    "dt.fit(X_train, y_train)\n",
    "\n",
    "# Evaluate the model\n",
    "dt_score = dt.score(X_test, y_test)\n",
    "y_predict = dt.predict(X_test)\n",
    "y_true = y_test\n",
    "print('Accuracy of DT: ' + str(dt_score))\n",
    "\n",
    "# Calculate precision, recall, and F1-score\n",
    "precision, recall, fscore, none = precision_recall_fscore_support(y_true, y_predict, average='weighted')\n",
    "print('Precision of DT: ' + str(precision))\n",
    "print('Recall of DT: ' + str(recall))\n",
    "print('F1-score of DT: ' + str(fscore))\n",
    "\n",
    "# Print the classification report with renamed class labels\n",
    "target_names = ['Bot', 'BruteForce', 'DoS', 'Infiltration', 'Ntraffic', 'PortScan', 'WebAttack']\n",
    "print(classification_report(y_true, y_predict, target_names=target_names))\n",
    "\n",
    "# Create the confusion matrix and plot it as a heatmap with renamed class labels\n",
    "cm = confusion_matrix(y_true, y_predict)\n",
    "\n",
    "# Create a new figure and axes for the heatmap\n",
    "f, ax = plt.subplots(figsize=(5, 5))\n",
    "\n",
    "# Plot the heatmap with annotated values and the desired class labels\n",
    "sns.heatmap(cm, annot=True, fmt=\".0f\", ax=ax, xticklabels=target_names, yticklabels=target_names, cmap='Blues')\n",
    "\n",
    "# Set axis labels\n",
    "plt.xlabel(\"Predicted Label\")\n",
    "plt.ylabel(\"True Label\")\n",
    "\n",
    "# Show the plot\n",
    "plt.show()\n"
   ]
  },
  {
   "cell_type": "code",
   "execution_count": 30,
   "metadata": {
    "collapsed": true
   },
   "outputs": [],
   "source": [
    "dt_train=dt.predict(X_train)\n",
    "dt_test=dt.predict(X_test)"
   ]
  },
  {
   "cell_type": "markdown",
   "metadata": {},
   "source": [
    "#### Apply ET"
   ]
  },
  {
   "cell_type": "code",
   "execution_count": 44,
   "metadata": {},
   "outputs": [
    {
     "name": "stdout",
     "output_type": "stream",
     "text": [
      "Accuracy of ET: 0.9857368695298907\n",
      "Precision of ET: 0.986373163652643\n",
      "Recall of ET: 0.9857368695298907\n",
      "F1-score of ET: 0.9856026578671361\n",
      "              precision    recall  f1-score   support\n",
      "\n",
      "         Bot       0.96      0.96      0.96        79\n",
      "  BruteForce       1.00      1.00      1.00       554\n",
      "         DoS       0.93      0.99      0.96     15227\n",
      "Infiltration       0.00      0.00      0.00         1\n",
      "    Ntraffic       1.00      0.98      0.99     90924\n",
      "    PortScan       0.97      1.00      0.98      6357\n",
      "   WebAttack       0.88      0.08      0.15        87\n",
      "\n",
      "    accuracy                           0.99    113229\n",
      "   macro avg       0.82      0.72      0.72    113229\n",
      "weighted avg       0.99      0.99      0.99    113229\n",
      "\n"
     ]
    },
    {
     "data": {
      "image/png": "[encoded data removed]",
      "text/plain": [
       "<Figure size 360x360 with 2 Axes>"
      ]
     },
     "metadata": {
      "needs_background": "light"
     },
     "output_type": "display_data"
    }
   ],
   "source": [
    "from sklearn.ensemble import ExtraTreesClassifier\n",
    "from sklearn.metrics import confusion_matrix, precision_recall_fscore_support, classification_report\n",
    "import matplotlib.pyplot as plt\n",
    "import seaborn as sns\n",
    "\n",
    "# Assuming you have already defined X_train, y_train, X_test, and y_test\n",
    "\n",
    "# Fit the ExtraTreesClassifier\n",
    "et = ExtraTreesClassifier(random_state=0)\n",
    "et.fit(X_train, y_train)\n",
    "\n",
    "# Evaluate the model\n",
    "et_score = et.score(X_test, y_test)\n",
    "y_predict = et.predict(X_test)\n",
    "y_true = y_test\n",
    "print('Accuracy of ET: ' + str(et_score))\n",
    "\n",
    "# Calculate precision, recall, and F1-score\n",
    "precision, recall, fscore, none = precision_recall_fscore_support(y_true, y_predict, average='weighted')\n",
    "print('Precision of ET: ' + str(precision))\n",
    "print('Recall of ET: ' + str(recall))\n",
    "print('F1-score of ET: ' + str(fscore))\n",
    "\n",
    "# Print the classification report with renamed class labels\n",
    "target_names = ['Bot', 'BruteForce', 'DoS', 'Infiltration', 'Ntraffic', 'PortScan', 'WebAttack']\n",
    "print(classification_report(y_true, y_predict, target_names=target_names))\n",
    "\n",
    "# Create the confusion matrix and plot it as a heatmap with renamed class labels\n",
    "cm = confusion_matrix(y_true, y_predict)\n",
    "\n",
    "# Create a new figure and axes for the heatmap\n",
    "f, ax = plt.subplots(figsize=(5, 5))\n",
    "\n",
    "# Plot the heatmap with annotated values and the desired class labels\n",
    "sns.heatmap(cm, annot=True, fmt=\".0f\", ax=ax, xticklabels=target_names, yticklabels=target_names, cmap='Blues')\n",
    "\n",
    "# Set axis labels\n",
    "plt.xlabel(\"Predicted Label\")\n",
    "plt.ylabel(\"True Label\")\n",
    "\n",
    "# Show the plot\n",
    "plt.show()\n"
   ]
  },
  {
   "cell_type": "code",
   "execution_count": 32,
   "metadata": {
    "collapsed": true
   },
   "outputs": [],
   "source": [
    "et_train=et.predict(X_train)\n",
    "et_test=et.predict(X_test)"
   ]
  },
  {
   "cell_type": "markdown",
   "metadata": {},
   "source": [
    "### Apply Stacking\n",
    "The ensemble model that combines the four ML models (DT, RF, ET, XGBoost)"
   ]
  },
  {
   "cell_type": "code",
   "execution_count": 33,
   "metadata": {},
   "outputs": [
    {
     "data": {
      "text/html": [
       "<div>\n",
       "<style scoped>\n",
       "    .dataframe tbody tr th:only-of-type {\n",
       "        vertical-align: middle;\n",
       "    }\n",
       "\n",
       "    .dataframe tbody tr th {\n",
       "        vertical-align: top;\n",
       "    }\n",
       "\n",
       "    .dataframe thead th {\n",
       "        text-align: right;\n",
       "    }\n",
       "</style>\n",
       "<table border=\"1\" class=\"dataframe\">\n",
       "  <thead>\n",
       "    <tr style=\"text-align: right;\">\n",
       "      <th></th>\n",
       "      <th>DecisionTree</th>\n",
       "      <th>RandomForest</th>\n",
       "      <th>ExtraTrees</th>\n",
       "      <th>XgBoost</th>\n",
       "    </tr>\n",
       "  </thead>\n",
       "  <tbody>\n",
       "    <tr>\n",
       "      <th>0</th>\n",
       "      <td>4</td>\n",
       "      <td>4</td>\n",
       "      <td>4</td>\n",
       "      <td>4</td>\n",
       "    </tr>\n",
       "    <tr>\n",
       "      <th>1</th>\n",
       "      <td>4</td>\n",
       "      <td>4</td>\n",
       "      <td>4</td>\n",
       "      <td>4</td>\n",
       "    </tr>\n",
       "    <tr>\n",
       "      <th>2</th>\n",
       "      <td>4</td>\n",
       "      <td>4</td>\n",
       "      <td>4</td>\n",
       "      <td>4</td>\n",
       "    </tr>\n",
       "    <tr>\n",
       "      <th>3</th>\n",
       "      <td>5</td>\n",
       "      <td>5</td>\n",
       "      <td>5</td>\n",
       "      <td>5</td>\n",
       "    </tr>\n",
       "    <tr>\n",
       "      <th>4</th>\n",
       "      <td>4</td>\n",
       "      <td>4</td>\n",
       "      <td>4</td>\n",
       "      <td>4</td>\n",
       "    </tr>\n",
       "  </tbody>\n",
       "</table>\n",
       "</div>"
      ],
      "text/plain": [
       "   DecisionTree  RandomForest  ExtraTrees  XgBoost\n",
       "0             4             4           4        4\n",
       "1             4             4           4        4\n",
       "2             4             4           4        4\n",
       "3             5             5           5        5\n",
       "4             4             4           4        4"
      ]
     },
     "execution_count": 33,
     "metadata": {},
     "output_type": "execute_result"
    }
   ],
   "source": [
    "base_predictions_train = pd.DataFrame( {\n",
    "    'DecisionTree': dt_train.ravel(),\n",
    "        'RandomForest': rf_train.ravel(),\n",
    "     'ExtraTrees': et_train.ravel(),\n",
    "     'XgBoost': xg_train.ravel(),\n",
    "    })\n",
    "base_predictions_train.head(5)"
   ]
  },
  {
   "cell_type": "code",
   "execution_count": 34,
   "metadata": {},
   "outputs": [],
   "source": [
    "dt_train=dt_train.reshape(-1, 1)\n",
    "et_train=et_train.reshape(-1, 1)\n",
    "rf_train=rf_train.reshape(-1, 1)\n",
    "xg_train=xg_train.reshape(-1, 1)\n",
    "dt_test=dt_test.reshape(-1, 1)\n",
    "et_test=et_test.reshape(-1, 1)\n",
    "rf_test=rf_test.reshape(-1, 1)\n",
    "xg_test=xg_test.reshape(-1, 1)"
   ]
  },
  {
   "cell_type": "code",
   "execution_count": 35,
   "metadata": {},
   "outputs": [
    {
     "data": {
      "text/plain": [
       "(452916, 1)"
      ]
     },
     "execution_count": 35,
     "metadata": {},
     "output_type": "execute_result"
    }
   ],
   "source": [
    "dt_train.shape"
   ]
  },
  {
   "cell_type": "code",
   "execution_count": 36,
   "metadata": {},
   "outputs": [],
   "source": [
    "x_train = np.concatenate(( dt_train, et_train, rf_train, xg_train), axis=1)\n",
    "x_test = np.concatenate(( dt_test, et_test, rf_test, xg_test), axis=1)"
   ]
  },
  {
   "cell_type": "code",
   "execution_count": 45,
   "metadata": {},
   "outputs": [
    {
     "name": "stdout",
     "output_type": "stream",
     "text": [
      "Accuracy of Stacking: 0.9857103745506893\n",
      "Precision of Stacking: 0.9862327007101301\n",
      "Recall of Stacking: 0.9857103745506893\n",
      "F1-score of Stacking: 0.9856054722897175\n",
      "              precision    recall  f1-score   support\n",
      "\n",
      "         Bot       0.96      0.96      0.96        79\n",
      "  BruteForce       1.00      1.00      1.00       554\n",
      "         DoS       0.93      0.99      0.96     15227\n",
      "Infiltration       0.00      0.00      0.00         1\n",
      "    Ntraffic       1.00      0.98      0.99     90924\n",
      "    PortScan       0.97      1.00      0.98      6357\n",
      "   WebAttack       0.69      0.10      0.18        87\n",
      "\n",
      "    accuracy                           0.99    113229\n",
      "   macro avg       0.79      0.72      0.72    113229\n",
      "weighted avg       0.99      0.99      0.99    113229\n",
      "\n"
     ]
    },
    {
     "data": {
      "image/png": "[encoded data removed]",
      "text/plain": [
       "<Figure size 360x360 with 2 Axes>"
      ]
     },
     "metadata": {
      "needs_background": "light"
     },
     "output_type": "display_data"
    }
   ],
   "source": [
    "import xgboost as xgb\n",
    "from sklearn.metrics import accuracy_score, confusion_matrix, precision_recall_fscore_support, classification_report\n",
    "import matplotlib.pyplot as plt\n",
    "import seaborn as sns\n",
    "\n",
    "# Assuming you have already defined x_train, y_train, x_test, and y_test\n",
    "\n",
    "# Fit the XGBClassifier for stacking\n",
    "stk = xgb.XGBClassifier().fit(x_train, y_train)\n",
    "\n",
    "# Make predictions and evaluate the model\n",
    "y_predict = stk.predict(x_test)\n",
    "y_true = y_test\n",
    "stk_score = accuracy_score(y_true, y_predict)\n",
    "print('Accuracy of Stacking: ' + str(stk_score))\n",
    "\n",
    "# Calculate precision, recall, and F1-score\n",
    "precision, recall, fscore, none = precision_recall_fscore_support(y_true, y_predict, average='weighted')\n",
    "print('Precision of Stacking: ' + str(precision))\n",
    "print('Recall of Stacking: ' + str(recall))\n",
    "print('F1-score of Stacking: ' + str(fscore))\n",
    "\n",
    "# Print the classification report with renamed class labels\n",
    "target_names = ['Bot', 'BruteForce', 'DoS', 'Infiltration', 'Ntraffic', 'PortScan', 'WebAttack']\n",
    "print(classification_report(y_true, y_predict, target_names=target_names))\n",
    "\n",
    "# Create the confusion matrix and plot it as a heatmap with renamed class labels\n",
    "cm = confusion_matrix(y_true, y_predict)\n",
    "\n",
    "# Create a new figure and axes for the heatmap\n",
    "f, ax = plt.subplots(figsize=(5, 5))\n",
    "\n",
    "# Plot the heatmap with annotated values and the desired class labels\n",
    "sns.heatmap(cm, annot=True, fmt=\".0f\", ax=ax, xticklabels=target_names, yticklabels=target_names, cmap='Blues')\n",
    "\n",
    "# Set axis labels\n",
    "plt.xlabel(\"Predicted Label\")\n",
    "plt.ylabel(\"True Label\")\n",
    "\n",
    "# Show the plot\n",
    "plt.show()\n"
   ]
  },
  {
   "cell_type": "markdown",
   "metadata": {},
   "source": [
    "## PLOT IMPORTANCE FEATURES AFTER (IG & FCBE)"
   ]
  },
  {
   "cell_type": "code",
   "execution_count": 38,
   "metadata": {},
   "outputs": [
    {
     "data": {
      "image/png": "[encoded data removed]",
      "text/plain": [
       "<Figure size 720x432 with 1 Axes>"
      ]
     },
     "metadata": {
      "needs_background": "light"
     },
     "output_type": "display_data"
    }
   ],
   "source": [
    "import matplotlib.pyplot as plt\n",
    "from sklearn.feature_selection import mutual_info_classif\n",
    "from FCBF_module import FCBFK\n",
    "\n",
    "# Calculate the feature importance scores using Information Gain (IG)\n",
    "importances_ig = mutual_info_classif(X_train, y_train)\n",
    "\n",
    "# Create a list of features\n",
    "features = df.dtypes[df.dtypes != 'object'].index\n",
    "\n",
    "# Calculate the sum of importance scores\n",
    "f_list = sorted(zip(map(lambda x: round(x, 4), importances_ig), features), reverse=True)\n",
    "Sum = 0\n",
    "fs = []\n",
    "for i in range(0, len(f_list)):\n",
    "    Sum = Sum + f_list[i][0]\n",
    "    fs.append(f_list[i][1])\n",
    "\n",
    "# Select the important features from top to bottom until the accumulated importance reaches 90%\n",
    "f_list2 = sorted(zip(map(lambda x: round(x, 4), importances_ig/Sum), features), reverse=True)\n",
    "Sum2 = 0\n",
    "fs = []\n",
    "for i in range(0, len(f_list2)):\n",
    "    Sum2 = Sum2 + f_list2[i][0]\n",
    "    fs.append(f_list2[i][1])\n",
    "    if Sum2 >= 0.9:\n",
    "        break\n",
    "\n",
    "# Apply Fast Correlation-Based Filter (FCBF)\n",
    "#fcbf = FCBFK(k=20)\n",
    "#X_fss = fcbf.fit_transform(X_train, y_train)\n",
    "\n",
    "# Get the top 20 features\n",
    "top_features = fs[:20]\n",
    "\n",
    "# Get the importance scores of the top 20 features\n",
    "top_importances = [importances_ig[features.get_loc(feature)] for feature in top_features]\n",
    "\n",
    "# Plot the feature importance after IG and FCBF for the top 20 features\n",
    "plt.figure(figsize=(10, 6))\n",
    "plt.bar(range(len(top_importances)), top_importances)\n",
    "plt.xlabel('Features')\n",
    "plt.ylabel('Importance Score')\n",
    "plt.title('Feature Importance after IG and FCBF (Top 20 Features)')\n",
    "plt.xticks(range(len(top_importances)), top_features, rotation='vertical')\n",
    "plt.tight_layout()\n",
    "plt.show()"
   ]
  }
 ],
 "metadata": {
  "anaconda-cloud": {},
  "kernelspec": {
   "display_name": "Python 3",
   "language": "python",
   "name": "python3"
  },
  "language_info": {
   "codemirror_mode": {
    "name": "ipython",
    "version": 3
   },
   "file_extension": ".py",
   "mimetype": "text/x-python",
   "name": "python",
   "nbconvert_exporter": "python",
   "pygments_lexer": "ipython3",
   "version": "3.8.10"
  }
 },
 "nbformat": 4,
 "nbformat_minor": 2
}
